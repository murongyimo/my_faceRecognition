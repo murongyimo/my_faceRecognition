{
 "cells": [
  {
   "cell_type": "code",
   "execution_count": 1,
   "metadata": {},
   "outputs": [],
   "source": [
    "import os.path\n",
    "import glob\n",
    "from PIL import Image  \n",
    "import numpy as np\n",
    "import tensorflow as tf\n",
    "from tensorflow.python.platform import gfile\n",
    "import matplotlib.pyplot as plt\n",
    "\n",
    "# 测试输入数据集：flower_photos\n",
    "INPUT_DATA = './dataset/orl_faces_png'\n",
    "OUTPUT_FILE = './dataset/orl_faces.npy'\n",
    "# 测试数据和验证数据比例\n",
    "VALIDATION_PERCENTAGE = 10\n",
    "TEST_PERCENTAGE = 10"
   ]
  },
  {
   "cell_type": "code",
   "execution_count": 2,
   "metadata": {},
   "outputs": [],
   "source": [
    "# 定义函数转化变量类型。\n",
    "def _int64_feature(value):\n",
    "    return tf.train.Feature(int64_list=tf.train.Int64List(value=[value]))\n",
    "#生成字符串的属性\n",
    "def _bytes_feature(value):\n",
    "    return tf.train.Feature(bytes_list=tf.train.BytesList(value=[value]))\n",
    "#获取in_dir下的所有子文件夹\n",
    "def get_sub_dir(in_dir):\n",
    "    dirs = []\n",
    "    if not os.path.exists(in_dir):  \n",
    "        print(in_dir, 'is not existed.')  \n",
    "        return -1\n",
    "    for sub_dir in glob.glob(in_dir+'/*'):  \n",
    "        #sub_dir:各个子文件夹\n",
    "        dirs.append(sub_dir)\n",
    "    return dirs\n",
    "        \n",
    "#获取in_dir下的所有jpg文件\n",
    "def get_file(in_dir):\n",
    "    files = []\n",
    "    if not os.path.exists(in_dir):  \n",
    "        print(in_dir, 'is not existed.')  \n",
    "        return -1\n",
    "    for file in glob.glob(in_dir+'/*.'+'png'):  \n",
    "        #sub_dir:各个子文件夹\n",
    "        files.append(file)\n",
    "    return files\n",
    "    \n",
    "def one_hot(label, num):\n",
    "    onehot = [0]*num\n",
    "    onehot[label] = 1\n",
    "    return np.array(onehot)\n",
    "    \n",
    "def create_image_lists(sess, testing_percentage, validation_percentage):\n",
    "    #初始化数据集\n",
    "    training_images = []\n",
    "    training_labels = []\n",
    "    testing_images = []\n",
    "    testing_labels = []\n",
    "    validation_images = []\n",
    "    validation_labels = []\n",
    "    \n",
    "    #处理各个文件夹下的子文件\n",
    "    dirs = get_sub_dir(INPUT_DATA)\n",
    "    i = 0\n",
    "    for sub_dir in dirs:\n",
    "        print(i,'.processing:',sub_dir)\n",
    "        i = i+1\n",
    "        #标签名即为子文件夹sub_dir的名字-1,范围0~39\n",
    "        _, label= os.path.split(sub_dir)\n",
    "        label = int(label[1:])-1 \n",
    "        label_one_hot=tf.cast(one_hot(label, 40), dtype=tf.float32)\n",
    "        #files：sub_dir下的文件列表\n",
    "        files = get_file(sub_dir)\n",
    "        for file in files:\n",
    "            image_raw_data = tf.gfile.FastGFile(file, 'rb').read()\n",
    "            image = tf.image.decode_png(image_raw_data)\n",
    "            #image_value:numpy.ndarry类型数据\n",
    "            image = tf.image.resize_image_with_crop_or_pad(image, 112, 112)\n",
    "            #将uint8格式转换为float32格式\n",
    "            if image.dtype != tf.float32:\n",
    "                image = tf.image.convert_image_dtype(image, dtype=tf.float32)\n",
    "            image_value, label= sess.run([image,label_one_hot]) \n",
    "            #按照比例通过随机值划分数据集\n",
    "            chance = np.random.randint(100)\n",
    "            if chance < validation_percentage:\n",
    "                validation_images.append(image_value)\n",
    "                validation_labels.append(label)\n",
    "            elif chance < (testing_percentage + validation_percentage):\n",
    "                testing_images.append(image_value)\n",
    "                testing_labels.append(label)\n",
    "            else:\n",
    "                training_images.append(image_value)\n",
    "                training_labels.append(label)\n",
    "    # 将训练数据随机打乱以获得更好的训练效果。\n",
    "    state = np.random.get_state()\n",
    "    np.random.shuffle(training_images)\n",
    "    np.random.set_state(state)\n",
    "    np.random.shuffle(training_labels)\n",
    "    print('train_label[0]:',training_labels[0])\n",
    "    plt.imshow(training_images[0].reshape(112, 112), cmap=plt.get_cmap('gray'))\n",
    "    \n",
    "    return np.asarray([training_images, training_labels,\n",
    "                       validation_images, validation_labels,\n",
    "                       testing_images, testing_labels])"
   ]
  },
  {
   "cell_type": "code",
   "execution_count": 3,
   "metadata": {
    "scrolled": false
   },
   "outputs": [
    {
     "name": "stdout",
     "output_type": "stream",
     "text": [
      "0 .processing: ./dataset/orl_faces_png/s40\n",
      "1 .processing: ./dataset/orl_faces_png/s39\n",
      "2 .processing: ./dataset/orl_faces_png/s23\n",
      "3 .processing: ./dataset/orl_faces_png/s17\n",
      "4 .processing: ./dataset/orl_faces_png/s22\n",
      "5 .processing: ./dataset/orl_faces_png/s14\n",
      "6 .processing: ./dataset/orl_faces_png/s19\n",
      "7 .processing: ./dataset/orl_faces_png/s15\n",
      "8 .processing: ./dataset/orl_faces_png/s16\n",
      "9 .processing: ./dataset/orl_faces_png/s28\n",
      "10 .processing: ./dataset/orl_faces_png/s4\n",
      "11 .processing: ./dataset/orl_faces_png/s1\n",
      "12 .processing: ./dataset/orl_faces_png/s9\n",
      "13 .processing: ./dataset/orl_faces_png/s30\n",
      "14 .processing: ./dataset/orl_faces_png/s24\n",
      "15 .processing: ./dataset/orl_faces_png/s25\n",
      "16 .processing: ./dataset/orl_faces_png/s27\n",
      "17 .processing: ./dataset/orl_faces_png/s34\n",
      "18 .processing: ./dataset/orl_faces_png/s18\n",
      "19 .processing: ./dataset/orl_faces_png/s5\n",
      "20 .processing: ./dataset/orl_faces_png/s26\n",
      "21 .processing: ./dataset/orl_faces_png/s6\n",
      "22 .processing: ./dataset/orl_faces_png/s21\n",
      "23 .processing: ./dataset/orl_faces_png/s2\n",
      "24 .processing: ./dataset/orl_faces_png/s29\n",
      "25 .processing: ./dataset/orl_faces_png/s36\n",
      "26 .processing: ./dataset/orl_faces_png/s38\n",
      "27 .processing: ./dataset/orl_faces_png/s13\n",
      "28 .processing: ./dataset/orl_faces_png/s35\n",
      "29 .processing: ./dataset/orl_faces_png/s8\n",
      "30 .processing: ./dataset/orl_faces_png/s11\n",
      "31 .processing: ./dataset/orl_faces_png/s31\n",
      "32 .processing: ./dataset/orl_faces_png/s33\n",
      "33 .processing: ./dataset/orl_faces_png/s7\n",
      "34 .processing: ./dataset/orl_faces_png/s10\n",
      "35 .processing: ./dataset/orl_faces_png/s20\n",
      "36 .processing: ./dataset/orl_faces_png/s37\n",
      "37 .processing: ./dataset/orl_faces_png/s12\n",
      "38 .processing: ./dataset/orl_faces_png/s3\n",
      "39 .processing: ./dataset/orl_faces_png/s32\n",
      "train_label[0]: [0. 0. 1. 0. 0. 0. 0. 0. 0. 0. 0. 0. 0. 0. 0. 0. 0. 0. 0. 0. 0. 0. 0. 0.\n",
      " 0. 0. 0. 0. 0. 0. 0. 0. 0. 0. 0. 0. 0. 0. 0. 0.]\n"
     ]
    },
    {
     "data": {
      "image/png": "[encoded data removed]",
      "text/plain": [
       "<Figure size 432x288 with 1 Axes>"
      ]
     },
     "metadata": {},
     "output_type": "display_data"
    }
   ],
   "source": [
    "with tf.Session() as sess:\n",
    "    photo_data = create_image_lists(sess, VALIDATION_PERCENTAGE, TEST_PERCENTAGE)\n",
    "    np.save(OUTPUT_FILE, photo_data)"
   ]
  },
  {
   "cell_type": "code",
   "execution_count": 4,
   "metadata": {},
   "outputs": [
    {
     "name": "stdout",
     "output_type": "stream",
     "text": [
      "(328, 112, 112, 1)\n",
      "(328, 40)\n",
      "(31, 112, 112, 1)\n",
      "(31, 40)\n",
      "(41, 112, 112, 1)\n",
      "(41, 40)\n"
     ]
    }
   ],
   "source": [
    "# [training_images, training_labels,validation_images, validation_labels,testing_images, testing_labels]\n",
    "for i in range(6):\n",
    "#     print(list.count(photo_data[i]))\n",
    "    print(np.asarray(photo_data[i]).shape)"
   ]
  },
  {
   "cell_type": "code",
   "execution_count": null,
   "metadata": {},
   "outputs": [],
   "source": []
  }
 ],
 "metadata": {
  "kernelspec": {
   "display_name": "Python 3",
   "language": "python",
   "name": "python3"
  },
  "language_info": {
   "codemirror_mode": {
    "name": "ipython",
    "version": 3
   },
   "file_extension": ".py",
   "mimetype": "text/x-python",
   "name": "python",
   "nbconvert_exporter": "python",
   "pygments_lexer": "ipython3",
   "version": "3.5.2"
  }
 },
 "nbformat": 4,
 "nbformat_minor": 2
}
